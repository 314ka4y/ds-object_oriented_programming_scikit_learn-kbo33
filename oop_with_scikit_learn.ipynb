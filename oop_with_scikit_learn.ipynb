{
 "cells": [
  {
   "cell_type": "markdown",
   "metadata": {
    "toc": true
   },
   "source": [
    "<h1>Table of Contents<span class=\"tocSkip\"></span></h1>\n",
    "<div class=\"toc\"><ul class=\"toc-item\"><li><span><a href=\"#Objectives\" data-toc-modified-id=\"Objectives-1\"><span class=\"toc-item-num\">1&nbsp;&nbsp;</span>Objectives</a></span></li><li><span><a href=\"#Inheritance\" data-toc-modified-id=\"Inheritance-2\"><span class=\"toc-item-num\">2&nbsp;&nbsp;</span>Inheritance</a></span><ul class=\"toc-item\"><li><span><a href=\"#Duck-typing\" data-toc-modified-id=\"Duck-typing-2.1\"><span class=\"toc-item-num\">2.1&nbsp;&nbsp;</span>Duck typing</a></span></li></ul></li><li><span><a href=\"#Scikit-learn's-API:-(Estimators,-Transformers,-Predictors)\" data-toc-modified-id=\"Scikit-learn's-API:-(Estimators,-Transformers,-Predictors)-3\"><span class=\"toc-item-num\">3&nbsp;&nbsp;</span>Scikit-learn's API: (Estimators, Transformers, Predictors)</a></span><ul class=\"toc-item\"><li><span><a href=\"#Observe-class-definition-from-source-(like-StandardScaler)\" data-toc-modified-id=\"Observe-class-definition-from-source-(like-StandardScaler)-3.1\"><span class=\"toc-item-num\">3.1&nbsp;&nbsp;</span>Observe class definition from source (like StandardScaler)</a></span></li></ul></li><li><span><a href=\"#Extend-a-transformer-(like-StandardScaler)\" data-toc-modified-id=\"Extend-a-transformer-(like-StandardScaler)-4\"><span class=\"toc-item-num\">4&nbsp;&nbsp;</span>Extend a transformer (like StandardScaler)</a></span></li></ul></div>"
   ]
  },
  {
   "cell_type": "markdown",
   "metadata": {
    "heading_collapsed": true
   },
   "source": [
    "# Objectives"
   ]
  },
  {
   "cell_type": "markdown",
   "metadata": {
    "heading_collapsed": true
   },
   "source": [
    "# Inheritance"
   ]
  },
  {
   "cell_type": "markdown",
   "metadata": {
    "heading_collapsed": true,
    "hidden": true
   },
   "source": [
    "## Duck typing"
   ]
  },
  {
   "cell_type": "markdown",
   "metadata": {
    "heading_collapsed": true
   },
   "source": [
    "# Scikit-learn's API: (Estimators, Transformers, Predictors)"
   ]
  },
  {
   "cell_type": "markdown",
   "metadata": {
    "heading_collapsed": true,
    "hidden": true
   },
   "source": [
    "## Observe class definition from source (like StandardScaler)"
   ]
  },
  {
   "cell_type": "markdown",
   "metadata": {
    "hidden": true
   },
   "source": [
    "Let's begin by taking a look at the source code for `sklearn`'s [StandardScaler](https://github.com/scikit-learn/scikit-learn/blob/fd237278e/sklearn/preprocessing/_data.py#L517)\n",
    "\n",
    "Take a minute to peruse the source code on your own. What do you notice?"
   ]
  },
  {
   "cell_type": "markdown",
   "metadata": {
    "heading_collapsed": true
   },
   "source": [
    "# Extend a transformer (like StandardScaler)"
   ]
  }
 ],
 "metadata": {
  "kernelspec": {
   "display_name": "Python 3",
   "language": "python",
   "name": "python3"
  },
  "language_info": {
   "codemirror_mode": {
    "name": "ipython",
    "version": 3
   },
   "file_extension": ".py",
   "mimetype": "text/x-python",
   "name": "python",
   "nbconvert_exporter": "python",
   "pygments_lexer": "ipython3",
   "version": "3.8.5"
  },
  "toc": {
   "base_numbering": 1,
   "nav_menu": {},
   "number_sections": true,
   "sideBar": true,
   "skip_h1_title": false,
   "title_cell": "Table of Contents",
   "title_sidebar": "Contents",
   "toc_cell": true,
   "toc_position": {
    "height": "calc(100% - 180px)",
    "left": "10px",
    "top": "150px",
    "width": "384px"
   },
   "toc_section_display": true,
   "toc_window_display": true
  }
 },
 "nbformat": 4,
 "nbformat_minor": 4
}
