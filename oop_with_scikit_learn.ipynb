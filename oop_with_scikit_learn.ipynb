{
 "cells": [
  {
   "cell_type": "markdown",
   "metadata": {
    "toc": true
   },
   "source": [
    "<h1>Table of Contents<span class=\"tocSkip\"></span></h1>\n",
    "<div class=\"toc\"><ul class=\"toc-item\"><li><span><a href=\"#Objectives\" data-toc-modified-id=\"Objectives-1\"><span class=\"toc-item-num\">1&nbsp;&nbsp;</span>Objectives</a></span></li><li><span><a href=\"#Inheritance\" data-toc-modified-id=\"Inheritance-2\"><span class=\"toc-item-num\">2&nbsp;&nbsp;</span>Inheritance</a></span><ul class=\"toc-item\"><li><span><a href=\"#Duck-typing\" data-toc-modified-id=\"Duck-typing-2.1\"><span class=\"toc-item-num\">2.1&nbsp;&nbsp;</span>Duck typing</a></span></li></ul></li><li><span><a href=\"#Scikit-learn's-API:-(Estimators,-Transformers,-Predictors)\" data-toc-modified-id=\"Scikit-learn's-API:-(Estimators,-Transformers,-Predictors)-3\"><span class=\"toc-item-num\">3&nbsp;&nbsp;</span>Scikit-learn's API: (Estimators, Transformers, Predictors)</a></span><ul class=\"toc-item\"><li><span><a href=\"#Estimator\" data-toc-modified-id=\"Estimator-3.1\"><span class=\"toc-item-num\">3.1&nbsp;&nbsp;</span>Estimator</a></span><ul class=\"toc-item\"><li><span><a href=\"#fit\" data-toc-modified-id=\"fit-3.1.1\"><span class=\"toc-item-num\">3.1.1&nbsp;&nbsp;</span><code>fit</code></a></span></li></ul></li><li><span><a href=\"#Transformer\" data-toc-modified-id=\"Transformer-3.2\"><span class=\"toc-item-num\">3.2&nbsp;&nbsp;</span>Transformer</a></span><ul class=\"toc-item\"><li><span><a href=\"#transform\" data-toc-modified-id=\"transform-3.2.1\"><span class=\"toc-item-num\">3.2.1&nbsp;&nbsp;</span><code>transform</code></a></span></li><li><span><a href=\"#fit_transform\" data-toc-modified-id=\"fit_transform-3.2.2\"><span class=\"toc-item-num\">3.2.2&nbsp;&nbsp;</span><code>fit_transform</code></a></span></li></ul></li><li><span><a href=\"#Predictor\" data-toc-modified-id=\"Predictor-3.3\"><span class=\"toc-item-num\">3.3&nbsp;&nbsp;</span>Predictor</a></span><ul class=\"toc-item\"><li><span><a href=\"#predict\" data-toc-modified-id=\"predict-3.3.1\"><span class=\"toc-item-num\">3.3.1&nbsp;&nbsp;</span><code>predict</code></a></span></li><li><span><a href=\"#score\" data-toc-modified-id=\"score-3.3.2\"><span class=\"toc-item-num\">3.3.2&nbsp;&nbsp;</span><code>score</code></a></span></li></ul></li><li><span><a href=\"#Observe-class-definition-from-source-(like-StandardScaler)\" data-toc-modified-id=\"Observe-class-definition-from-source-(like-StandardScaler)-3.4\"><span class=\"toc-item-num\">3.4&nbsp;&nbsp;</span>Observe class definition from source (like StandardScaler)</a></span></li></ul></li><li><span><a href=\"#Extend-a-transformer-(like-StandardScaler)\" data-toc-modified-id=\"Extend-a-transformer-(like-StandardScaler)-4\"><span class=\"toc-item-num\">4&nbsp;&nbsp;</span>Extend a transformer (like StandardScaler)</a></span></li></ul></div>"
   ]
  },
  {
   "cell_type": "markdown",
   "metadata": {
    "heading_collapsed": true
   },
   "source": [
    "# Objectives"
   ]
  },
  {
   "cell_type": "markdown",
   "metadata": {
    "heading_collapsed": true
   },
   "source": [
    "# Inheritance"
   ]
  },
  {
   "cell_type": "markdown",
   "metadata": {
    "heading_collapsed": true,
    "hidden": true
   },
   "source": [
    "## Duck typing"
   ]
  },
  {
   "cell_type": "markdown",
   "metadata": {
    "heading_collapsed": true
   },
   "source": [
    "# Scikit-learn's API: (Estimators, Transformers, Predictors)"
   ]
  },
  {
   "cell_type": "markdown",
   "metadata": {
    "heading_collapsed": true,
    "hidden": true
   },
   "source": [
    "## Estimator"
   ]
  },
  {
   "cell_type": "markdown",
   "metadata": {
    "hidden": true
   },
   "source": [
    "> This is an object that can can take in data and _estimate_ (or _learn_) some parameters. "
   ]
  },
  {
   "cell_type": "markdown",
   "metadata": {
    "hidden": true
   },
   "source": [
    "This means regression and classification models are estimators but so are objects that transform the original dataset ([Transformers](#Transformer)) such as `StandardScaler`."
   ]
  },
  {
   "cell_type": "markdown",
   "metadata": {
    "heading_collapsed": true,
    "hidden": true
   },
   "source": [
    "### `fit`"
   ]
  },
  {
   "cell_type": "markdown",
   "metadata": {
    "hidden": true
   },
   "source": [
    "All estimators estimate/learn by calling the `fit()` method by passing in the dataset. Other parameters can be passed in to \"help\" the estimator to learn. These are called **hyperparameters**, parameters used to tweak the learning process."
   ]
  },
  {
   "cell_type": "markdown",
   "metadata": {
    "heading_collapsed": true,
    "hidden": true
   },
   "source": [
    "## Transformer"
   ]
  },
  {
   "cell_type": "markdown",
   "metadata": {
    "hidden": true
   },
   "source": [
    "> Some estimators can change the original data to something new, a **transformation**. "
   ]
  },
  {
   "cell_type": "markdown",
   "metadata": {
    "hidden": true
   },
   "source": [
    "You can think of examples of these **transformers** when you do scaling, data cleaning, or expanding/reducing on a dataset."
   ]
  },
  {
   "cell_type": "markdown",
   "metadata": {
    "heading_collapsed": true,
    "hidden": true
   },
   "source": [
    "### `transform`"
   ]
  },
  {
   "cell_type": "markdown",
   "metadata": {
    "hidden": true
   },
   "source": [
    "Transformers will call the `transform()` method to apply the transformation to a dataset after a `fit()` call."
   ]
  },
  {
   "cell_type": "markdown",
   "metadata": {
    "heading_collapsed": true,
    "hidden": true
   },
   "source": [
    "###  `fit_transform`"
   ]
  },
  {
   "cell_type": "markdown",
   "metadata": {
    "hidden": true
   },
   "source": [
    "Remember that all estimators have a `fit()` method, so a transformer can use the `fit()` method to learn something about the given dataset. After learning with `fit()`, a transformation on the dataset can be made with the `transform()` method. "
   ]
  },
  {
   "cell_type": "markdown",
   "metadata": {
    "hidden": true
   },
   "source": [
    "An example of this would be a function that performs normalization on the dataset; the `fit()` method would learn the minimum and maximum of the dataset and the `transform()` method will scale the dataset."
   ]
  },
  {
   "cell_type": "markdown",
   "metadata": {
    "hidden": true
   },
   "source": [
    "When you call `fit` and `transform` with the same dataset, you can simply call the `fit_transform()` method. This essentially has the same results as calling `fit()` and then `transform()` on the dataset but possibly with some optimization and efficiencies baked in."
   ]
  },
  {
   "cell_type": "markdown",
   "metadata": {
    "heading_collapsed": true,
    "hidden": true
   },
   "source": [
    "## Predictor"
   ]
  },
  {
   "cell_type": "markdown",
   "metadata": {
    "hidden": true
   },
   "source": [
    "> We would use the `fit()` method to train our predictor object and then feed in new data to make predictions (based on what it learned in the fitting stage)."
   ]
  },
  {
   "cell_type": "markdown",
   "metadata": {
    "hidden": true
   },
   "source": [
    "We've used **predictors** whenever we've made predictions like with a `LinearRegression` model."
   ]
  },
  {
   "cell_type": "markdown",
   "metadata": {
    "heading_collapsed": true,
    "hidden": true
   },
   "source": [
    "### `predict`"
   ]
  },
  {
   "cell_type": "markdown",
   "metadata": {
    "hidden": true
   },
   "source": [
    "As you probably can guess, the `predict()` method predicts results from a dataset given to it after being trained with a `fit()` method"
   ]
  },
  {
   "cell_type": "markdown",
   "metadata": {
    "heading_collapsed": true,
    "hidden": true
   },
   "source": [
    "### `score`"
   ]
  },
  {
   "cell_type": "markdown",
   "metadata": {
    "hidden": true
   },
   "source": [
    "Predictors also have a `score()` method that can be used to evaluate how well the predictor performed on a dataset (such as the test set)."
   ]
  },
  {
   "cell_type": "markdown",
   "metadata": {
    "heading_collapsed": true,
    "hidden": true
   },
   "source": [
    "## Observe class definition from source (like StandardScaler)"
   ]
  },
  {
   "cell_type": "markdown",
   "metadata": {
    "hidden": true
   },
   "source": [
    "Let's begin by taking a look at the source code for `sklearn`'s [StandardScaler](https://github.com/scikit-learn/scikit-learn/blob/fd237278e/sklearn/preprocessing/_data.py#L517)\n",
    "\n",
    "Take a minute to peruse the source code on your own. What do you notice?"
   ]
  },
  {
   "cell_type": "markdown",
   "metadata": {
    "heading_collapsed": true
   },
   "source": [
    "# Extend a transformer (like StandardScaler)"
   ]
  }
 ],
 "metadata": {
  "kernelspec": {
   "display_name": "Python 3",
   "language": "python",
   "name": "python3"
  },
  "language_info": {
   "codemirror_mode": {
    "name": "ipython",
    "version": 3
   },
   "file_extension": ".py",
   "mimetype": "text/x-python",
   "name": "python",
   "nbconvert_exporter": "python",
   "pygments_lexer": "ipython3",
   "version": "3.8.5"
  },
  "toc": {
   "base_numbering": 1,
   "nav_menu": {},
   "number_sections": true,
   "sideBar": true,
   "skip_h1_title": false,
   "title_cell": "Table of Contents",
   "title_sidebar": "Contents",
   "toc_cell": true,
   "toc_position": {
    "height": "calc(100% - 180px)",
    "left": "10px",
    "top": "150px",
    "width": "384px"
   },
   "toc_section_display": true,
   "toc_window_display": true
  }
 },
 "nbformat": 4,
 "nbformat_minor": 4
}
